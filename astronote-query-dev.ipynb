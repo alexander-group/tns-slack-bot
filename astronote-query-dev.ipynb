{
 "cells": [
  {
   "cell_type": "code",
   "execution_count": 84,
   "id": "0ee6322c-555b-49cc-94ad-fcfe6fa8bafe",
   "metadata": {},
   "outputs": [],
   "source": [
    "import requests\n",
    "from bs4 import BeautifulSoup\n",
    "from io import StringIO\n",
    "import pandas as pd"
   ]
  },
  {
   "cell_type": "code",
   "execution_count": 66,
   "id": "3e2e14f4-d303-4f66-bd49-cbaf6d882fff",
   "metadata": {},
   "outputs": [],
   "source": [
    "url = \"https://www.wis-tns.org/astronotes?&date_start%5Bdate%5D=2024-07-01\" #&date_end%5Bdate%5D=2024-10-04&keywords%5Bvalue_field%5D=%22%22%22%22%20%22%22TDE%22%22&num_page=50\""
   ]
  },
  {
   "cell_type": "code",
   "execution_count": 67,
   "id": "797ec745-b18b-4f10-affa-4e7cc6a16d1b",
   "metadata": {},
   "outputs": [
    {
     "data": {
      "text/plain": [
       "<Response [200]>"
      ]
     },
     "execution_count": 67,
     "metadata": {},
     "output_type": "execute_result"
    }
   ],
   "source": [
    "hdr = {'User-Agent': 'Mozilla/5.0 (Macintosh; Intel Mac OS X 10_11_5) AppleWebKit/537.36 (KHTML, like Gecko) Chrome/50.0.2661.102 Safari/537.36'}\n",
    "res = requests.get(url, headers=hdr)\n",
    "res"
   ]
  },
  {
   "cell_type": "code",
   "execution_count": 68,
   "id": "0d7f792f-f2af-4950-b3bd-79aee353d88d",
   "metadata": {},
   "outputs": [],
   "source": [
    "soup = BeautifulSoup(res.content.decode())"
   ]
  },
  {
   "cell_type": "code",
   "execution_count": 69,
   "id": "e2f8eeda-c5d9-4995-a1f2-a6e81d6d999f",
   "metadata": {},
   "outputs": [],
   "source": [
    "tde_res = soup.find(string=\"TDE\").find_parents()"
   ]
  },
  {
   "cell_type": "code",
   "execution_count": 112,
   "id": "851ca923-323c-451f-8a34-584ea294a4f6",
   "metadata": {
    "scrolled": true
   },
   "outputs": [
    {
     "name": "stdout",
     "output_type": "stream",
     "text": [
      "https://www.wis-tns.org/astronotes/astronote/2024-282\n",
      "X. Sheng, A. Aamer, M. Nicholl, K. W. Smith, C. R. Angus, M. Fulton, T. Moore, J. Weston, D. R. Young (QUB), P. Ramsd...\n",
      "SLSN and TDE candidates from NEEDLE on Lasair\n",
      "2024vya [ZTF24abimtdl]\n",
      "02:37:26.434 -16:34:48.66\n",
      "TDE\n",
      "None\n",
      "\n",
      "2024vpg [ZTF24abhtadx]\n",
      "19:47:23.194 +57:35:28.84\n",
      "TDE\n",
      "None\n",
      "\n",
      "\n",
      "####################################################################\n",
      "\n",
      "https://www.wis-tns.org/astronotes/astronote/2024-268\n",
      "A. Sankar. K (NCU), X. Sheng, M. Nicholl, K. W. Smith, C. R. Angus, A. Aamer, M. Fulton, T. Moore, J. Weston, D. R. Y...\n",
      "SLSN and TDE candidates from NEEDLE on Lasair\n",
      "2024vsb [ZTF24abhfqms]\n",
      "21:46:03.598 -08:43:01.43\n",
      "TDE\n",
      "None\n",
      "\n",
      "2024vwo [ZTF24abikscm]\n",
      "22:04:50.233 -02:49:40.49\n",
      "TDE\n",
      "None\n",
      "\n",
      "\n",
      "####################################################################\n",
      "\n",
      "https://www.wis-tns.org/astronotes/astronote/2024-263\n",
      "Noah Franz (Arizona), Kate D. Alexander (Arizona), Collin T. Christy (Arizona), Suvi Gezari (STScI/JHU), Adelle J. Go...\n",
      "Radio Detection of TDE AT2024rny/ZTF24aazlori with the Very Large Array\n",
      "2024rny\n",
      "22:57:28.808 +39:25:44.37\n",
      "TDE\n",
      "0.1055\n",
      "\n",
      "\n",
      "####################################################################\n",
      "\n",
      "https://www.wis-tns.org/astronotes/astronote/2024-262\n",
      "A. Aamer (QUB), A. Sankar. K (NCU), P. Ramsden (Birmingham/QUB), X. Sheng, M. Nicholl, K. W. Smith, C. R. Angus, M. F...\n",
      "SLSN and TDE candidates from NEEDLE on Lasair\n",
      "2024vjr [ZTF24abgrsdt]\n",
      "00:22:50.385 +28:25:41.57\n",
      "TDE\n",
      "None\n",
      "\n",
      "\n",
      "####################################################################\n",
      "\n",
      "https://www.wis-tns.org/astronotes/astronote/2024-251\n",
      "A. Aamer, C. R. Angus, X. Sheng, M. Nicholl, K. W. Smith, M. Fulton, T. Moore, J. Weston, D. R. Young (QUB), P. Ramsd...\n",
      "SLSN and TDE candidates from NEEDLE on Lasair\n",
      "2024uip [PS24ikt]\n",
      "00:17:48.939 +21:42:05.64\n",
      "TDE\n",
      "None\n",
      "\n",
      "2024uqm [ZTF24abfhjot]\n",
      "15:45:53.957 +12:12:06.53\n",
      "TDE\n",
      "None\n",
      "\n",
      "\n",
      "####################################################################\n",
      "\n",
      "https://www.wis-tns.org/astronotes/astronote/2024-241\n",
      "X. Sheng, M. Nicholl, K. W. Smith, C. R. Angus, A. Aamer, M. Fulton, T. Moore, J. Weston, D. R. Young (QUB), P. Ramsd...\n",
      "SLSN and TDE candidates from NEEDLE on Lasair\n",
      "2024uch [ZTF24abdrfsx]\n",
      "15:53:33.681 +44:39:41.88\n",
      "TDE\n",
      "None\n",
      "\n",
      "2024uao [ZTF24abekejc]\n",
      "08:42:49.141 +35:26:08.31\n",
      "TDE\n",
      "None\n",
      "\n",
      "2024swe [ZTF24abcrgam]\n",
      "16:39:01.293 +37:21:58.83\n",
      "TDE\n",
      "0.0599\n",
      "\n",
      "\n",
      "####################################################################\n",
      "\n"
     ]
    }
   ],
   "source": [
    "astronotes = soup.find_all(class_=\"note\")\n",
    "t = {\"TDE\", \"TDE-H\", \"TDE-He\"}\n",
    "for a in astronotes:\n",
    "    r = a.find(string=\"TDE\")\n",
    "    if r is None: continue\n",
    "\n",
    "    partial_link = a.find(class_=\"note-link\").get(\"href\")        \n",
    "    link = f\"https://www.wis-tns.org{partial_link}\"\n",
    "    print(link)\n",
    "\n",
    "    authors = a.find(class_=\"note-coauthors\").get_text()\n",
    "    print(authors)\n",
    "\n",
    "    title = a.find(class_=\"note-title\").get_text()\n",
    "    print(title)\n",
    "\n",
    "    note = requests.get(link, headers=hdr).content.decode()\n",
    "    subsoup = BeautifulSoup(note)\n",
    "\n",
    "    tab = subsoup.find(class_=\"objects-table\")\n",
    "    df = pd.read_html(StringIO(str(tab)))[0]\n",
    "    \n",
    "    # only take TDEs\n",
    "    # if \"Candidate Type\"\n",
    "    class_names = []\n",
    "    if \"Reported Obj-Type\" in df:\n",
    "        class_names.append(\"Reported Obj-Type\")\n",
    "    if \"TNS Obj-Type\" in df:\n",
    "        class_names.append(\"TNS Obj-Type\")\n",
    "    if \"Candidate type\" in df:\n",
    "        class_names.append(\"Candidate type\")\n",
    "        \n",
    "    filt = df[class_names].isin(t).sum(axis=1).astype(bool)\n",
    "    df = df[filt]\n",
    "\n",
    "    for _, row in df.iterrows():\n",
    "        row = row.dropna()\n",
    "        #print(row)\n",
    "        name = row.Name\n",
    "\n",
    "        ra, dec = None, None\n",
    "        if \"TNS RA\" in row and \"TNS DEC\" in row:\n",
    "            ra = row[\"TNS RA\"]\n",
    "            dec = row[\"TNS DEC\"]\n",
    "        elif \"Reported RA\" in row and \"Reported Dec\" in row:\n",
    "            ra = row[\"Reported RA\"]\n",
    "            dec = row[\"Reported DEC\"]\n",
    "\n",
    "        classification = None\n",
    "        for pkey in [\"Reported Obj-Type\", \"TNS Obj-Type\", \"Candidate type\"]:\n",
    "            if pkey in row:\n",
    "                classification = row[pkey]\n",
    "\n",
    "        if classification not in t: continue\n",
    "        \n",
    "        redshift = None\n",
    "        for col in row.keys():\n",
    "            if \"Redshift\" in col:\n",
    "                redshift = row[col]\n",
    "        \n",
    "        print(name)\n",
    "        print(ra, dec)\n",
    "        print(classification)\n",
    "        print(redshift)\n",
    "        print()\n",
    "\n",
    "    print()\n",
    "    print('####################################################################')\n",
    "    print()"
   ]
  },
  {
   "cell_type": "code",
   "execution_count": 114,
   "id": "5cb933d6-fadf-491c-a6ef-000882d0f5cf",
   "metadata": {},
   "outputs": [
    {
     "ename": "ValueError",
     "evalue": "Input values did not match any of the formats where the format keyword is optional:\n- 'datetime': Input values for datetime class must be datetime objects\n- 'ymdhms': input must be dict or table-like\n- 'iso': Input values for iso class must be strings\n- 'isot': Input values for isot class must be strings\n- 'yday': Input values for yday class must be strings\n- 'datetime64': Input values for datetime64 class must be datetime64 objects\n- 'fits': Input values for fits class must be strings\n- 'byear_str': Input values for byear_str class must be strings\n- 'jyear_str': Input values for jyear_str class must be strings\n- 'astropy_time': Input values for astropy_time class must all be the same astropy Time type.",
     "output_type": "error",
     "traceback": [
      "\u001b[0;31m---------------------------------------------------------------------------\u001b[0m",
      "\u001b[0;31mValueError\u001b[0m                                Traceback (most recent call last)",
      "Cell \u001b[0;32mIn[114], line 3\u001b[0m\n\u001b[1;32m      1\u001b[0m \u001b[38;5;28;01mimport\u001b[39;00m \u001b[38;5;21;01mtime\u001b[39;00m\n\u001b[1;32m      2\u001b[0m \u001b[38;5;28;01mfrom\u001b[39;00m \u001b[38;5;21;01mastropy\u001b[39;00m\u001b[38;5;21;01m.\u001b[39;00m\u001b[38;5;21;01mtime\u001b[39;00m \u001b[38;5;28;01mimport\u001b[39;00m Time\n\u001b[0;32m----> 3\u001b[0m Time(time\u001b[38;5;241m.\u001b[39mtime())\n",
      "File \u001b[0;32m~/anaconda3/lib/python3.11/site-packages/astropy/time/core.py:2021\u001b[0m, in \u001b[0;36mTime.__init__\u001b[0;34m(self, val, val2, format, scale, precision, in_subfmt, out_subfmt, location, copy)\u001b[0m\n\u001b[1;32m   2019\u001b[0m         \u001b[38;5;28mself\u001b[39m\u001b[38;5;241m.\u001b[39m_set_scale(scale)\n\u001b[1;32m   2020\u001b[0m \u001b[38;5;28;01melse\u001b[39;00m:\n\u001b[0;32m-> 2021\u001b[0m     \u001b[38;5;28mself\u001b[39m\u001b[38;5;241m.\u001b[39m_init_from_vals(\n\u001b[1;32m   2022\u001b[0m         val, val2, \u001b[38;5;28mformat\u001b[39m, scale, copy, precision, in_subfmt, out_subfmt\n\u001b[1;32m   2023\u001b[0m     )\n\u001b[1;32m   2024\u001b[0m     \u001b[38;5;28mself\u001b[39m\u001b[38;5;241m.\u001b[39mSCALES \u001b[38;5;241m=\u001b[39m TIME_TYPES[\u001b[38;5;28mself\u001b[39m\u001b[38;5;241m.\u001b[39mscale]\n\u001b[1;32m   2026\u001b[0m \u001b[38;5;28;01mif\u001b[39;00m \u001b[38;5;28mself\u001b[39m\u001b[38;5;241m.\u001b[39mlocation \u001b[38;5;129;01mis\u001b[39;00m \u001b[38;5;129;01mnot\u001b[39;00m \u001b[38;5;28;01mNone\u001b[39;00m \u001b[38;5;129;01mand\u001b[39;00m (\n\u001b[1;32m   2027\u001b[0m     \u001b[38;5;28mself\u001b[39m\u001b[38;5;241m.\u001b[39mlocation\u001b[38;5;241m.\u001b[39msize \u001b[38;5;241m>\u001b[39m \u001b[38;5;241m1\u001b[39m \u001b[38;5;129;01mand\u001b[39;00m \u001b[38;5;28mself\u001b[39m\u001b[38;5;241m.\u001b[39mlocation\u001b[38;5;241m.\u001b[39mshape \u001b[38;5;241m!=\u001b[39m \u001b[38;5;28mself\u001b[39m\u001b[38;5;241m.\u001b[39mshape\n\u001b[1;32m   2028\u001b[0m ):\n",
      "File \u001b[0;32m~/anaconda3/lib/python3.11/site-packages/astropy/time/core.py:559\u001b[0m, in \u001b[0;36mTimeBase._init_from_vals\u001b[0;34m(self, val, val2, format, scale, copy, precision, in_subfmt, out_subfmt)\u001b[0m\n\u001b[1;32m    556\u001b[0m mask, val_data2 \u001b[38;5;241m=\u001b[39m get_mask_and_data(mask, val2)\n\u001b[1;32m    558\u001b[0m \u001b[38;5;66;03m# Parse / convert input values into internal jd1, jd2 based on format\u001b[39;00m\n\u001b[0;32m--> 559\u001b[0m \u001b[38;5;28mself\u001b[39m\u001b[38;5;241m.\u001b[39m_time \u001b[38;5;241m=\u001b[39m \u001b[38;5;28mself\u001b[39m\u001b[38;5;241m.\u001b[39m_get_time_fmt(\n\u001b[1;32m    560\u001b[0m     val_data, val_data2, \u001b[38;5;28mformat\u001b[39m, scale, precision, in_subfmt, out_subfmt, mask\n\u001b[1;32m    561\u001b[0m )\n\u001b[1;32m    562\u001b[0m \u001b[38;5;28mself\u001b[39m\u001b[38;5;241m.\u001b[39m_format \u001b[38;5;241m=\u001b[39m \u001b[38;5;28mself\u001b[39m\u001b[38;5;241m.\u001b[39m_time\u001b[38;5;241m.\u001b[39mname\n\u001b[1;32m    564\u001b[0m \u001b[38;5;66;03m# Hack from #9969 to allow passing the location value that has been\u001b[39;00m\n\u001b[1;32m    565\u001b[0m \u001b[38;5;66;03m# collected by the TimeAstropyTime format class up to the Time level.\u001b[39;00m\n\u001b[1;32m    566\u001b[0m \u001b[38;5;66;03m# TODO: find a nicer way.\u001b[39;00m\n",
      "File \u001b[0;32m~/anaconda3/lib/python3.11/site-packages/astropy/time/core.py:655\u001b[0m, in \u001b[0;36mTimeBase._get_time_fmt\u001b[0;34m(self, val, val2, format, scale, precision, in_subfmt, out_subfmt, mask)\u001b[0m\n\u001b[1;32m    649\u001b[0m             problems[name] \u001b[38;5;241m=\u001b[39m err\n\u001b[1;32m    651\u001b[0m message \u001b[38;5;241m=\u001b[39m (\n\u001b[1;32m    652\u001b[0m     \u001b[38;5;124m\"\u001b[39m\u001b[38;5;124mInput values did not match any of the formats where the format \u001b[39m\u001b[38;5;124m\"\u001b[39m\n\u001b[1;32m    653\u001b[0m     \u001b[38;5;124m\"\u001b[39m\u001b[38;5;124mkeyword is optional:\u001b[39m\u001b[38;5;130;01m\\n\u001b[39;00m\u001b[38;5;124m\"\u001b[39m\n\u001b[1;32m    654\u001b[0m ) \u001b[38;5;241m+\u001b[39m \u001b[38;5;124m\"\u001b[39m\u001b[38;5;130;01m\\n\u001b[39;00m\u001b[38;5;124m\"\u001b[39m\u001b[38;5;241m.\u001b[39mjoin(\u001b[38;5;124mf\u001b[39m\u001b[38;5;124m\"\u001b[39m\u001b[38;5;124m- \u001b[39m\u001b[38;5;124m'\u001b[39m\u001b[38;5;132;01m{\u001b[39;00mname\u001b[38;5;132;01m}\u001b[39;00m\u001b[38;5;124m'\u001b[39m\u001b[38;5;124m: \u001b[39m\u001b[38;5;132;01m{\u001b[39;00merr\u001b[38;5;132;01m}\u001b[39;00m\u001b[38;5;124m\"\u001b[39m \u001b[38;5;28;01mfor\u001b[39;00m name, err \u001b[38;5;129;01min\u001b[39;00m problems\u001b[38;5;241m.\u001b[39mitems())\n\u001b[0;32m--> 655\u001b[0m \u001b[38;5;28;01mraise\u001b[39;00m \u001b[38;5;167;01mValueError\u001b[39;00m(message)\n",
      "\u001b[0;31mValueError\u001b[0m: Input values did not match any of the formats where the format keyword is optional:\n- 'datetime': Input values for datetime class must be datetime objects\n- 'ymdhms': input must be dict or table-like\n- 'iso': Input values for iso class must be strings\n- 'isot': Input values for isot class must be strings\n- 'yday': Input values for yday class must be strings\n- 'datetime64': Input values for datetime64 class must be datetime64 objects\n- 'fits': Input values for fits class must be strings\n- 'byear_str': Input values for byear_str class must be strings\n- 'jyear_str': Input values for jyear_str class must be strings\n- 'astropy_time': Input values for astropy_time class must all be the same astropy Time type."
     ]
    }
   ],
   "source": [
    "import time\n",
    "from astropy.time import Time\n",
    "Time(time.time())"
   ]
  },
  {
   "cell_type": "code",
   "execution_count": 122,
   "id": "068d6f59-d65f-4d13-8ef0-38f62f1b160a",
   "metadata": {},
   "outputs": [],
   "source": [
    "from datetime import datetime, timedelta"
   ]
  },
  {
   "cell_type": "code",
   "execution_count": 125,
   "id": "ddca0953-8561-47e1-8b76-d2788f60a4ef",
   "metadata": {},
   "outputs": [
    {
     "data": {
      "text/plain": [
       "'2024-10-2'"
      ]
     },
     "execution_count": 125,
     "metadata": {},
     "output_type": "execute_result"
    }
   ],
   "source": [
    "now = datetime.now()\n",
    "dt = timedelta(days=2)\n",
    "qdate = now-dt\n",
    "qdate_strfmt = f\"{qdate.year}-{qdate.month}-{qdate.day}\"\n",
    "strfmt"
   ]
  },
  {
   "cell_type": "code",
   "execution_count": null,
   "id": "9852ddb5-869e-40a0-8bce-7a11cbabd310",
   "metadata": {},
   "outputs": [],
   "source": []
  }
 ],
 "metadata": {
  "kernelspec": {
   "display_name": "Python 3 (ipykernel)",
   "language": "python",
   "name": "python3"
  },
  "language_info": {
   "codemirror_mode": {
    "name": "ipython",
    "version": 3
   },
   "file_extension": ".py",
   "mimetype": "text/x-python",
   "name": "python",
   "nbconvert_exporter": "python",
   "pygments_lexer": "ipython3",
   "version": "3.11.7"
  }
 },
 "nbformat": 4,
 "nbformat_minor": 5
}
