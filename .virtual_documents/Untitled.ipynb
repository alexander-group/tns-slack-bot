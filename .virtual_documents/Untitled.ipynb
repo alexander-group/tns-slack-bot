import requests
from bs4 import BeautifulSoup
from io import StringIO
import pandas as pd


url = "https://www.wis-tns.org/astronotes?&date_start%5Bdate%5D=2024-07-01" #&date_end%5Bdate%5D=2024-10-04&keywords%5Bvalue_field%5D=%22%22%22%22%20%22%22TDE%22%22&num_page=50"


hdr = {'User-Agent': 'Mozilla/5.0 (Macintosh; Intel Mac OS X 10_11_5) AppleWebKit/537.36 (KHTML, like Gecko) Chrome/50.0.2661.102 Safari/537.36'}
res = requests.get(url, headers=hdr)
res


soup = BeautifulSoup(res.content.decode())


tde_res = soup.find(string="TDE").find_parents()


astronotes = soup.find_all(class_="note")
t = {"TDE", "TDE-H", "TDE-He"}
for a in astronotes:
    r = a.find(string="TDE")
    if r is None: continue

    partial_link = a.find(class_="note-link").get("href")        
    link = f"https://www.wis-tns.org{partial_link}"
    print(link)

    authors = a.find(class_="note-coauthors").get_text()
    print(authors)

    title = a.find(class_="note-title").get_text()
    print(title)

    note = requests.get(link, headers=hdr).content.decode()
    subsoup = BeautifulSoup(note)

    tab = subsoup.find(class_="objects-table")
    df = pd.read_html(StringIO(str(tab)))[0]
    
    # only take TDEs
    # if "Candidate Type"
    class_names = []
    if "Reported Obj-Type" in df:
        class_names.append("Reported Obj-Type")
    if "TNS Obj-Type" in df:
        class_names.append("TNS Obj-Type")
    if "Candidate type" in df:
        class_names.append("Candidate type")
        
    filt = df[class_names].isin(t).sum(axis=1).astype(bool)
    df = df[filt]

    for _, row in df.iterrows():
        row = row.dropna()
        #print(row)
        name = row.Name

        ra, dec = None, None
        if "TNS RA" in row and "TNS DEC" in row:
            ra = row["TNS RA"]
            dec = row["TNS DEC"]
        elif "Reported RA" in row and "Reported Dec" in row:
            ra = row["Reported RA"]
            dec = row["Reported DEC"]

        classification = None
        for pkey in ["Reported Obj-Type", "TNS Obj-Type", "Candidate type"]:
            if pkey in row:
                classification = row[pkey]

        if classification not in t: continue
        
        redshift = None
        for col in row.keys():
            if "Redshift" in col:
                redshift = row[col]
        
        print(name)
        print(ra, dec)
        print(classification)
        print(redshift)
        print()

    print()
    print('####################################################################')
    print()


import time
from astropy.time import Time
Time(time.time())


from datetime import datetime, timedelta


now = datetime.now()
dt = timedelta(days=2)
qdate = now-dt
qdate_strfmt = f"{qdate.year}-{qdate.month}-{qdate.day}"
strfmt



